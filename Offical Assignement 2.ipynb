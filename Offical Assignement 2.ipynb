{
 "cells": [
  {
   "cell_type": "code",
   "execution_count": 1,
   "metadata": {},
   "outputs": [
    {
     "name": "stdout",
     "output_type": "stream",
     "text": [
      " Please enter radius8\n",
      "201.088\n"
     ]
    }
   ],
   "source": [
    "R = float (input (\" Please enter radius\"))\n",
    "Area = 3.142 * R** 2\n",
    "print (Area)"
   ]
  },
  {
   "cell_type": "code",
   "execution_count": 2,
   "metadata": {},
   "outputs": [
    {
     "name": "stdout",
     "output_type": "stream",
     "text": [
      "-14\n",
      "Number is negative\n"
     ]
    }
   ],
   "source": [
    "import random\n",
    "r = random.randint(-100,100)\n",
    "print(r)\n",
    "if r >= 0 : print(\"Number is positive\")\n",
    "else : print(\"Number is negative\")\n"
   ]
  },
  {
   "cell_type": "code",
   "execution_count": 3,
   "metadata": {},
   "outputs": [
    {
     "name": "stdout",
     "output_type": "stream",
     "text": [
      "Please input the denominator8\n",
      "Please input the numenator8\n",
      "Its  exactly divisible\n"
     ]
    }
   ],
   "source": [
    " Denominator = int(input(\"Please input the denominator\"))\n",
    " Nuemanator = int(input(\"Please input the numenator\"))\n",
    " if (Denominator % Nuemanator == 0) : print( \"Its  exactly divisible\") \n",
    " else : print (\" Its not divisible\")"
   ]
  },
  {
   "cell_type": "code",
   "execution_count": 4,
   "metadata": {},
   "outputs": [
    {
     "name": "stdout",
     "output_type": "stream",
     "text": [
      "Please input an integer8\n",
      "584\n"
     ]
    }
   ],
   "source": [
    " N = int (input (\"Please input an integer\"))\n",
    " M = N + N**2 + N**3\n",
    " print(M)"
   ]
  },
  {
   "cell_type": "code",
   "execution_count": 1,
   "metadata": {},
   "outputs": [
    {
     "name": "stdout",
     "output_type": "stream",
     "text": [
      "Please enter a sentence hi\n",
      "Number of times you wnt it to be written 5\n",
      " hi\n",
      " hi\n",
      " hi\n",
      " hi\n",
      " hi\n"
     ]
    }
   ],
   "source": [
    " sng = (input(\"Please enter a sentence\"))\n",
    " numb = int((input (\"Number of times you wnt it to be written\")))\n",
    " i = 0\n",
    " while(i < numb) : \n",
    "    print(sng) \n",
    "    i = i + 1"
   ]
  },
  {
   "cell_type": "code",
   "execution_count": null,
   "metadata": {},
   "outputs": [],
   "source": [
    " R = float (input(\"Please enter radius\"))\n",
    " V = int (R*R*4*3.142/3)\n",
    "print(V)"
   ]
  },
  {
   "cell_type": "code",
   "execution_count": null,
   "metadata": {},
   "outputs": [],
   "source": [
    " Num = int ( input(\"Please enter an integer\"))\n",
    "if Num < 17 : Diff = 17 - Num\n",
    "else : Diff = Num - 17\n",
    "    \n",
    "print(Diff)"
   ]
  },
  {
   "cell_type": "code",
   "execution_count": null,
   "metadata": {},
   "outputs": [],
   "source": [
    " Num = int(input(\"Please enter an integer \"))\n",
    " if Num % 2 == 0 : print(\"Its an even number\")\n",
    " else : print(\"Its an odd number\")"
   ]
  },
  {
   "cell_type": "code",
   "execution_count": null,
   "metadata": {},
   "outputs": [],
   "source": [
    " Let = (input(\"Enter any letter \"))\n",
    " if Let  in (\"A\",\"E\",\"I\",\"O\",\"U\",\"a\",\"e\",\"i\",\"o\",\"u\") : print(\"Letter is a vovel\")\n",
    "else : print(\"its not a vovel\")"
   ]
  },
  {
   "cell_type": "code",
   "execution_count": null,
   "metadata": {},
   "outputs": [],
   "source": [
    "base = int(input(\"please input base of the triangle \"))\n",
    "height = int(input(\"please input area of the triangle \"))\n",
    "area = int(base*height /2)\n",
    "print(\"Area of triangle is \",area)\n"
   ]
  },
  {
   "cell_type": "code",
   "execution_count": null,
   "metadata": {},
   "outputs": [],
   "source": [
    " Num1 = int(input(\"please enter the first number \"))\n",
    " Num2 = int(input(\"please enter the second number \"))   \n",
    " if Num1 == Num2 or Num1 - Num2 == 5 or Num2 - Num1 == 5 or Num1 + Num2 == 5 : print(\"True\")\n",
    " else : print(\"False\")"
   ]
  },
  {
   "cell_type": "code",
   "execution_count": null,
   "metadata": {},
   "outputs": [],
   "source": [
    "import random\n",
    "x = random.randint(-100,100)\n",
    "y = random.randint(-100,100)\n",
    "sol = (x+y)*(x-y)\n",
    "print(sol)"
   ]
  },
  {
   "cell_type": "code",
   "execution_count": null,
   "metadata": {},
   "outputs": [],
   "source": [
    "import random\n",
    "principal = int(input(\"Please enter principal\"))\n",
    "yrs = int(input(\"Number of years\"))\n",
    "r = float(random.randint(5,10))\n",
    "print(\"intrest rate \", r)\n",
    "m=r/100 +1\n",
    "total = principal*m**(yrs-1)\n",
    "print (total)"
   ]
  },
  {
   "cell_type": "code",
   "execution_count": null,
   "metadata": {},
   "outputs": [],
   "source": [
    " X1  = int(input(\"Please enter cordinates of point x1 \"))\n",
    " Y1  = int(input(\"Please enter cordinates of point y1 \"))\n",
    " X2  = int(input(\"Please enter cordinates of point x2 \"))\n",
    " Y2  = int(input(\"Please enter cordinates of point y2 \"))\n",
    " Dist = int(((X1-X2)**2+(Y1-Y2)**2)**(1/2))\n",
    " print(Dist)"
   ]
  },
  {
   "cell_type": "code",
   "execution_count": null,
   "metadata": {},
   "outputs": [],
   "source": [
    "h = float (input (\"Please enter height in feet \"))\n",
    "inches = h*30.48\n",
    "print (\"Height in inches is \", inches)"
   ]
  },
  {
   "cell_type": "code",
   "execution_count": null,
   "metadata": {},
   "outputs": [],
   "source": [
    "h = float( input(\"Enter Height in feet\"))\n",
    "w = float( input(\"Enter weight  in kgs\"))\n",
    "result =(w/(h*0.3048)**2)\n",
    "print(\"BMI = \",result)"
   ]
  },
  {
   "cell_type": "code",
   "execution_count": 3,
   "metadata": {},
   "outputs": [
    {
     "name": "stdout",
     "output_type": "stream",
     "text": [
      " Please enter base of triangle3\n",
      " Please enter height of triangle4\n",
      "Hyp =  5\n"
     ]
    }
   ],
   "source": [
    "b = int(input(\" Please enter base of triangle\"))\n",
    "h = int(input(\" Please enter height of triangle\"))\n",
    "Hyp =int((b**2 + h**2)**(1/2))\n",
    "print (\"Hyp = \",Hyp)"
   ]
  },
  {
   "cell_type": "code",
   "execution_count": 16,
   "metadata": {},
   "outputs": [
    {
     "name": "stdout",
     "output_type": "stream",
     "text": [
      "please enter distance in feet 5000\n",
      "Distance in inches is  60000\n",
      "Distance in yard is  1666.6666666666665\n",
      "Distance in miles is  0.946969696969697\n"
     ]
    }
   ],
   "source": [
    " feet = int(input(\"please enter distance in feet\"))\n",
    " inches = feet*12\n",
    " yards = feet*(1/3)\n",
    " miles = feet*(1/5280)\n",
    " print(\"Distance in inches is \", inches)\n",
    " print(\"Distance in yard is \", yards )\n",
    " print(\"Distance in miles is \", miles )"
   ]
  },
  {
   "cell_type": "code",
   "execution_count": null,
   "metadata": {},
   "outputs": [],
   "source": [
    " x = 0\n",
    " while(x<10):\n",
    "        a=0\n",
    "        while(a<10) : \n",
    "            print(a)\n",
    "            a = a + 1        \n",
    " x = x+1"
   ]
  }
 ],
 "metadata": {
  "kernelspec": {
   "display_name": "Python 3",
   "language": "python",
   "name": "python3"
  },
  "language_info": {
   "codemirror_mode": {
    "name": "ipython",
    "version": 3
   },
   "file_extension": ".py",
   "mimetype": "text/x-python",
   "name": "python",
   "nbconvert_exporter": "python",
   "pygments_lexer": "ipython3",
   "version": "3.7.3"
  }
 },
 "nbformat": 4,
 "nbformat_minor": 2
}
